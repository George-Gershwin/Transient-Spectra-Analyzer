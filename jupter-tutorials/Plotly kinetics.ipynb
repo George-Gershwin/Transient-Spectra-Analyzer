{
 "cells": [
  {
   "cell_type": "code",
   "execution_count": 1,
   "metadata": {},
   "outputs": [
    {
     "data": {
      "text/html": [
       "        <script type=\"text/javascript\">\n",
       "        window.PlotlyConfig = {MathJaxConfig: 'local'};\n",
       "        if (window.MathJax) {MathJax.Hub.Config({SVG: {font: \"STIX-Web\"}});}\n",
       "        if (typeof require !== 'undefined') {\n",
       "        require.undef(\"plotly\");\n",
       "        requirejs.config({\n",
       "            paths: {\n",
       "                'plotly': ['https://cdn.plot.ly/plotly-latest.min']\n",
       "            }\n",
       "        });\n",
       "        require(['plotly'], function(Plotly) {\n",
       "            window._Plotly = Plotly;\n",
       "        });\n",
       "        }\n",
       "        </script>\n",
       "        "
      ]
     },
     "metadata": {},
     "output_type": "display_data"
    },
    {
     "data": {
      "application/vnd.jupyter.widget-view+json": {
       "model_id": "afd68ffbc9764b4e8750ceda8742c1ce",
       "version_major": 2,
       "version_minor": 0
      },
      "text/plain": [
       "FloatSlider(value=1.0, description='c0', max=10.0, min=0.1)"
      ]
     },
     "metadata": {},
     "output_type": "display_data"
    },
    {
     "data": {
      "application/vnd.jupyter.widget-view+json": {
       "model_id": "d86780df55de476e9984f2f0977206ca",
       "version_major": 2,
       "version_minor": 0
      },
      "text/plain": [
       "HBox(children=(FloatSlider(value=1.0, description='n1', max=4.0), FloatSlider(value=1.0, description='n2', max…"
      ]
     },
     "metadata": {},
     "output_type": "display_data"
    },
    {
     "data": {
      "application/vnd.jupyter.widget-view+json": {
       "model_id": "1800da34f29548e6b53af28470ef7f87",
       "version_major": 2,
       "version_minor": 0
      },
      "text/plain": [
       "HBox(children=(FloatSlider(value=20.0, description='k1', max=50.0, min=0.1), FloatSlider(value=5.0, descriptio…"
      ]
     },
     "metadata": {},
     "output_type": "display_data"
    },
    {
     "data": {
      "application/vnd.jupyter.widget-view+json": {
       "model_id": "453039a03c074b1c9ace78b6b1c38c54",
       "version_major": 2,
       "version_minor": 0
      },
      "text/plain": [
       "FigureWidget({\n",
       "    'data': [{'mode': 'lines',\n",
       "              'name': 'A',\n",
       "              'type': 'scatter',\n",
       "    …"
      ]
     },
     "metadata": {},
     "output_type": "display_data"
    }
   ],
   "source": [
    "import numpy as np\n",
    "import plotly as py\n",
    "import plotly.graph_objs as go\n",
    "import ipywidgets as widgets\n",
    "# from IPython import display\n",
    "from scipy.integrate import odeint\n",
    "\n",
    "from IPython.display import display, clear_output, Image\n",
    "# from plotly.widgets import GraphWidget\n",
    "\n",
    "py.offline.init_notebook_mode(connected=True)\n",
    "\n",
    "layout = go.Layout(\n",
    "    title='',\n",
    "    xaxis=dict(\n",
    "        title=\"Time\",\n",
    "        range=[-0.02, 2],\n",
    "        showline=True,\n",
    "        mirror='ticks',\n",
    "        zeroline=False\n",
    "    ),\n",
    "    yaxis=dict(\n",
    "        title=\"$c/c_0$\",\n",
    "        range=[-0.02,1.02],\n",
    "        showline=True,\n",
    "        mirror='ticks',\n",
    "        zeroline=False\n",
    "    )\n",
    ")\n",
    "\n",
    "times = np.linspace(0, 2, num=1000)\n",
    "c0_wid = widgets.FloatSlider(min=0.1, max=10, value=1, description='c0')\n",
    "k1_wid = widgets.FloatSlider(min=0.1, max=50, value=20, description='k1')\n",
    "n1_wid = widgets.FloatSlider(min=0, max=4, value=1, description='n1')\n",
    "k2_wid = widgets.FloatSlider(min=0, max=10, value=5, description='k2')\n",
    "n2_wid = widgets.FloatSlider(min=1, max=4, value=1, description='n2')\n",
    "k3_wid = widgets.FloatSlider(min=0, max=10, value=5, description='k3')\n",
    "n3_wid = widgets.FloatSlider(min=1, max=4, value=1, description='n3')\n",
    "\n",
    "# data = go.Scatter(x=[], y=[], mode='lines') \n",
    "# data = go.Scatter(x=xs, y=np.sin(xs/10 * 1), mode='lines')\n",
    "\n",
    "fig = go.FigureWidget(data=[\n",
    "    dict(\n",
    "        type='scatter',\n",
    "        mode='lines',),\n",
    "    dict(\n",
    "        type='scatter',\n",
    "        mode='lines',),\n",
    "    dict(\n",
    "        type='scatter',\n",
    "        mode='lines',),\n",
    "    dict(\n",
    "        type='scatter',\n",
    "        mode='lines',)\n",
    "], layout=layout)\n",
    "\n",
    "def cA(c0, k, n, t):\n",
    "    if n == 1:\n",
    "        return c0 * np.exp(-k * t)\n",
    "    else:\n",
    "        # expression inside the root\n",
    "        expr_in_root = c0 ** (1 - n) +  k * (n - 1) * t\n",
    "        # we have to set all negative values to 0 (this is important for n < 1),\n",
    "        # because the root of negative value would cause error\n",
    "        if type(expr_in_root) is float:\n",
    "            expr_in_root = 0 if expr_in_root < 0 else expr_in_root\n",
    "        else:\n",
    "            expr_in_root = expr_in_root.clip(min=0)\n",
    "        return np.power(expr_in_root, 1.0/(1-n))\n",
    "\n",
    "fig.data[0].x = times\n",
    "fig.data[1].x = times\n",
    "fig.data[2].x = times\n",
    "fig.data[3].x = times\n",
    "fig.data[0].name = 'A'\n",
    "fig.data[1].name = 'B'\n",
    "fig.data[2].name = 'C'\n",
    "fig.data[3].name = 'D'\n",
    "\n",
    "    \n",
    "def update(c0, k1, n1, n2, n3, k2, k3):\n",
    "    \n",
    "#     A = cA(c0, k1, n1, times)\n",
    "    \n",
    "    def solve(conc, t):\n",
    "        cB, cC = conc\n",
    "#         dA_dt = -2 * k1 * cA ** n1\n",
    "        dB_dt = k1 * cA(c0, k1, n1, t) ** n1 - k2 * cB ** n2\n",
    "        dC_dt = k2 * cB ** n2 - k3 * cC ** n3\n",
    "        \n",
    "        return [dB_dt, dC_dt]\n",
    "    \n",
    "    result = odeint(solve, [0, 0], times)\n",
    "    A = cA(c0, k1, n1, times)\n",
    "    B = result[:, 0]\n",
    "    C = result[:, 1]\n",
    "    D = c0 - A - B - C\n",
    "    \n",
    "    fig.data[0].y = A / c0\n",
    "    fig.data[1].y = B / c0\n",
    "    fig.data[2].y = C / c0\n",
    "    fig.data[3].y = D / c0\n",
    "\n",
    "\n",
    "# py.offline.iplot(fig)\n",
    "\n",
    "\n",
    "widgets.interactive(update, c0=c0_wid, n1=n1_wid, n2=n2_wid, n3=n3_wid, k1=k1_wid, k2=k2_wid, k3=k3_wid)\n",
    "display(c0_wid, widgets.HBox([n1_wid, n2_wid, n3_wid]))\n",
    "display(widgets.HBox([k1_wid, k2_wid, k3_wid]))\n",
    "display(fig)\n",
    "# update(1, 20, 2, 1, 1)\n"
   ]
  },
  {
   "cell_type": "code",
   "execution_count": 3,
   "metadata": {},
   "outputs": [],
   "source": [
    "# fig.data[0].x = [1, 2, 3]\n",
    "# fig.data[0].y = [0, 2, 7]"
   ]
  },
  {
   "cell_type": "code",
   "execution_count": 4,
   "metadata": {},
   "outputs": [],
   "source": [
    "def update(freq):\n",
    "\n",
    "#     fig.data[0].y = np.sin(xs/10 * freq)\n",
    "#     fig.plotly_restyle(dict(x=xs, y=np.sin(xs/10 * freq)))\n",
    "    \n",
    "    data = go.Scatter(x=xs, y=np.sin(xs/10 * freq), mode='lines')\n",
    "    fig = go.Figure(data=[data], layout=layout)\n",
    "    py.offline.iplot(fig)\n",
    "\n",
    "    \n",
    " \n",
    "# data = go.Scatter(x=xs, y=np.sin(xs/10 * freq), mode='lines')\n",
    "    \n",
    "    \n",
    "    \n",
    "#   fig.data[0].x = xs\n",
    "#   fig.data[0].y = np.sin(xs/10 * freq)\n"
   ]
  },
  {
   "cell_type": "code",
   "execution_count": null,
   "metadata": {},
   "outputs": [],
   "source": []
  }
 ],
 "metadata": {
  "kernelspec": {
   "display_name": "Python 3",
   "language": "python",
   "name": "python3"
  },
  "language_info": {
   "codemirror_mode": {
    "name": "ipython",
    "version": 3
   },
   "file_extension": ".py",
   "mimetype": "text/x-python",
   "name": "python",
   "nbconvert_exporter": "python",
   "pygments_lexer": "ipython3",
   "version": "3.7.3"
  }
 },
 "nbformat": 4,
 "nbformat_minor": 2
}
