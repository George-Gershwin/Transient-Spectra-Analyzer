{
 "cells": [
  {
   "cell_type": "code",
   "execution_count": 1,
   "metadata": {},
   "outputs": [],
   "source": [
    "from sympy import *"
   ]
  },
  {
   "cell_type": "code",
   "execution_count": 2,
   "metadata": {},
   "outputs": [
    {
     "data": {
      "text/latex": [
       "$\\displaystyle \\left(- e^{x \\left(- k_{0} - k_{1}\\right)} + e^{- k_{2} x}\\right) e^{x \\left(- k_{0} - k_{1}\\right)}$"
      ],
      "text/plain": [
       "(-exp(x*(-k0 - k1)) + exp(-k2*x))*exp(x*(-k0 - k1))"
      ]
     },
     "execution_count": 2,
     "metadata": {},
     "output_type": "execute_result"
    }
   ],
   "source": [
    "x = Symbol('x')\n",
    "k0 = Symbol('k0')\n",
    "k1 = Symbol('k1')\n",
    "k2 = Symbol('k2')\n",
    "\n",
    "f1 = exp(-(k0+k1) * x)\n",
    "# f2 = (k1 / (k2 - k1)) * (exp(-k1 * x) - exp(-k2 * x))\n",
    "f2 = ((exp(-k2* x) - exp(x *(-(k0 + k1)))))#/(k0 + k1 - k2)\n",
    "# f2\n",
    "f = f1 * f2\n",
    "f\n",
    "\n"
   ]
  },
  {
   "cell_type": "code",
   "execution_count": null,
   "metadata": {},
   "outputs": [],
   "source": []
  },
  {
   "cell_type": "code",
   "execution_count": 3,
   "metadata": {},
   "outputs": [
    {
     "data": {
      "text/latex": [
       "$\\displaystyle \\left(- k_{0} - k_{1}\\right) \\left(- e^{x \\left(- k_{0} - k_{1}\\right)} + e^{- k_{2} x}\\right) e^{x \\left(- k_{0} - k_{1}\\right)} + \\left(- k_{2} e^{- k_{2} x} - \\left(- k_{0} - k_{1}\\right) e^{x \\left(- k_{0} - k_{1}\\right)}\\right) e^{x \\left(- k_{0} - k_{1}\\right)}$"
      ],
      "text/plain": [
       "(-k0 - k1)*(-exp(x*(-k0 - k1)) + exp(-k2*x))*exp(x*(-k0 - k1)) + (-k2*exp(-k2*x) - (-k0 - k1)*exp(x*(-k0 - k1)))*exp(x*(-k0 - k1))"
      ]
     },
     "execution_count": 3,
     "metadata": {},
     "output_type": "execute_result"
    }
   ],
   "source": [
    "d = f.diff(x)\n",
    "# d = simplify(d)\n",
    "d"
   ]
  },
  {
   "cell_type": "code",
   "execution_count": 5,
   "metadata": {},
   "outputs": [
    {
     "data": {
      "text/latex": [
       "$\\displaystyle \\frac{- \\log{\\left(\\frac{k_{0} + k_{1} + k_{2}}{k_{0} + k_{1}} \\right)} + \\log{\\left(2 \\right)}}{k_{0} + k_{1} - k_{2}}$"
      ],
      "text/plain": [
       "(-log((k0 + k1 + k2)/(k0 + k1)) + log(2))/(k0 + k1 - k2)"
      ]
     },
     "execution_count": 5,
     "metadata": {},
     "output_type": "execute_result"
    }
   ],
   "source": [
    "max = solve(d, x)[0]\n",
    "max"
   ]
  },
  {
   "cell_type": "code",
   "execution_count": 55,
   "metadata": {},
   "outputs": [],
   "source": [
    "maxs = logcombine(max, True)"
   ]
  },
  {
   "cell_type": "code",
   "execution_count": 61,
   "metadata": {},
   "outputs": [
    {
     "data": {
      "text/latex": [
       "$\\displaystyle \\left(\\left(\\left(\\frac{2 \\left(k_{0} + k_{1}\\right)}{k_{0} + k_{1} + k_{2}}\\right)^{- \\frac{1}{k_{0} + k_{1} - k_{2}}}\\right)^{k_{2}} - \\left(\\left(\\frac{2 \\left(k_{0} + k_{1}\\right)}{k_{0} + k_{1} + k_{2}}\\right)^{\\frac{1}{k_{0} + k_{1} - k_{2}}}\\right)^{- k_{0} - k_{1}}\\right) \\left(\\left(\\frac{2 \\left(k_{0} + k_{1}\\right)}{k_{0} + k_{1} + k_{2}}\\right)^{\\frac{1}{k_{0} + k_{1} - k_{2}}}\\right)^{- k_{0} - k_{1}}$"
      ],
      "text/plain": [
       "(((2*(k0 + k1)/(k0 + k1 + k2))**(-1/(k0 + k1 - k2)))**k2 - ((2*(k0 + k1)/(k0 + k1 + k2))**(1/(k0 + k1 - k2)))**(-k0 - k1))*((2*(k0 + k1)/(k0 + k1 + k2))**(1/(k0 + k1 - k2)))**(-k0 - k1)"
      ]
     },
     "execution_count": 61,
     "metadata": {},
     "output_type": "execute_result"
    }
   ],
   "source": [
    "powsimp(logcombine(f.subs(x, maxs), True), force=True)"
   ]
  },
  {
   "cell_type": "code",
   "execution_count": 173,
   "metadata": {},
   "outputs": [
    {
     "data": {
      "text/latex": [
       "$\\displaystyle 0$"
      ],
      "text/plain": [
       "0"
      ]
     },
     "execution_count": 173,
     "metadata": {},
     "output_type": "execute_result"
    }
   ],
   "source": [
    "limit(max, k1, oo)"
   ]
  },
  {
   "cell_type": "code",
   "execution_count": 131,
   "metadata": {},
   "outputs": [
    {
     "data": {
      "text/latex": [
       "$\\displaystyle \\frac{\\log{\\left(2 \\right)}}{k_{0} + k_{1}}$"
      ],
      "text/plain": [
       "log(2)/(k0 + k1)"
      ]
     },
     "execution_count": 131,
     "metadata": {},
     "output_type": "execute_result"
    }
   ],
   "source": [
    "limit(max, k2, 0)"
   ]
  },
  {
   "cell_type": "code",
   "execution_count": 174,
   "metadata": {},
   "outputs": [],
   "source": [
    "f1 = Function('f1', real=True)\n",
    "f2 = Function('f2', real=True)\n",
    "t, C1, C2= symbols(\"t C1 C2\", real=True)\n",
    "k0 = Symbol('k0', real=True)\n",
    "k1 = Symbol('k1', real=True)\n",
    "k2 = Symbol('k2', real=True)\n",
    "c0 =  Symbol('c0', real=True)\n",
    "\n",
    "# eq1 = Eq(diff(f1(t), t), -k1*f1(t))\n",
    "\n",
    "# f1 = c0*exp(-(k0+k1)*t)\n",
    "eq1 = Eq(diff(f1(t), t), -(k0+k1)*f1(t))\n",
    "eq2 = Eq(diff(f2(t), t), k1*f1(t) - k2*f2(t))\n",
    "\n",
    "\n",
    "# sols = dsolve([eq1, eq2])\n",
    "# # sols[0]\n",
    "# refine(sols[0], Q.positive(k0))\n",
    "\n",
    "# constants = solve(sols.subs(t, 0).subs(f1(0), c0), {C1})\n",
    "# constants\n",
    "\n",
    "# # solution = dsolve([f1(x).diff(x) + k1*f1(x), f2(x).diff(x) - k1*f1(x) + k2*f2(x)], [f1(x), f2(x)], ics={f1(0):1, f2(0):0})\n",
    "# solution = dsolve([f1(x).diff(x) + k1*f1(x), f2(x).diff(x) - k1*f1(x) + k2*f2(x)])"
   ]
  },
  {
   "cell_type": "code",
   "execution_count": 104,
   "metadata": {},
   "outputs": [],
   "source": [
    "constants = solve([sols[0].subs(t, 0).subs(f1(0), 1), sols[1].subs(t, 0).subs(f1(0), 1).subs(f2(0), 0)], {C1, C2})"
   ]
  },
  {
   "cell_type": "code",
   "execution_count": 105,
   "metadata": {},
   "outputs": [
    {
     "data": {
      "text/plain": [
       "[]"
      ]
     },
     "execution_count": 105,
     "metadata": {},
     "output_type": "execute_result"
    }
   ],
   "source": [
    "exp(-t*(k0 + k1))*(exp(-t*(k0 + k1)) + exp(-kd*t)*(k0*t + k1*t - kd*t - 1))"
   ]
  },
  {
   "cell_type": "code",
   "execution_count": 43,
   "metadata": {},
   "outputs": [],
   "source": [
    "import matplotlib.pyplot as plt\n",
    "%matplotlib inline\n",
    "\n",
    "import numpy as np\n",
    "from scipy.integrate import odeint\n",
    "\n",
    "\n"
   ]
  },
  {
   "cell_type": "code",
   "execution_count": 44,
   "metadata": {},
   "outputs": [],
   "source": [
    "k0 = 4.1e5\n",
    "kd = 1.86e5\n",
    "kq = 1.31e10\n",
    "\n"
   ]
  },
  {
   "cell_type": "code",
   "execution_count": 45,
   "metadata": {},
   "outputs": [],
   "source": [
    "def lower_lim(conc):\n",
    "    k1 = kq * conc\n",
    "    return (np.log(2) - np.log((k0+k1+kd) / (k0+k1)))/ (k0+k1-kd)\n"
   ]
  },
  {
   "cell_type": "code",
   "execution_count": 46,
   "metadata": {},
   "outputs": [],
   "source": [
    "def upper_lim(conc):\n",
    "#     k1 = kq * conc\n",
    "    x = np.linspace(0, 4e-6, 5000)\n",
    "    \n",
    "    maxima = np.zeros(conc.shape[0])\n",
    "    \n",
    "    for i, k1 in enumerate(kq*conc):\n",
    "        df =  np.exp(-x*(k0 + k1))*(np.exp(-x*(k0 + k1)) + np.exp(-kd*x)*(k0*x + k1*x - kd*x - 1))\n",
    "        m = np.argmax(df)\n",
    "        \n",
    "        maxima[i] = x[m]\n",
    "        \n",
    "        \n",
    "    return maxima\n"
   ]
  },
  {
   "cell_type": "code",
   "execution_count": 252,
   "metadata": {},
   "outputs": [],
   "source": [
    "def general(conc, kex, k_ex=0, A0=0, t_max=4e-6, intensity=False, curves=False, norm_curves=False, t_points=1000):\n",
    "    \n",
    "    def Tall(A):\n",
    "        result = (1 - np.power(10, -A)) / (A * np.log(10))\n",
    "        result[np.isnan(result)] = 1\n",
    "        return result\n",
    "    \n",
    "    def solve(conc, t, *args):\n",
    "        Xan, Ex, DR, DF = conc\n",
    "        k1_var = args[0]\n",
    "\n",
    "        dcXan_dt = -(k0 + k1_var) * Xan\n",
    "        dcEx_dt = + k1_var * Xan  - (kex + kd) * Ex + k_ex * DR\n",
    "        dcDR_dt = + kex * Ex - kd * DR - k_ex * DR\n",
    "        # DF simulation\n",
    "        dcDF_dt = kTT * Xan * DR - kdel * DF\n",
    "\n",
    "        return [dcXan_dt, dcEx_dt, dcDR_dt, dcDF_dt]\n",
    "    \n",
    "    def integrate(k1, times, init_values):\n",
    "        result = odeint(solve, init_values, times, args=(k1,))\n",
    "        Xan = result[:, 0]\n",
    "        Ex = result[:, 1]\n",
    "        DR = result[:, 2]\n",
    "        DF = result[:, 3]\n",
    "        return Xan, Ex, DR, DF\n",
    "    \n",
    "    def _max(k1, t):\n",
    "# #         limit_t = t_max\n",
    "# #         num_p = 100\n",
    "#         t = np.linspace(0, t_max, t_num)\n",
    "        \n",
    "        Xan, Ex, DR = integrate(k1, t, [1, 0, 0])\n",
    "        DF_corr = Xan * DR * (Tall(A0 * Xan) if A0 > 0 else 1)\n",
    "        \n",
    "        if not curves:\n",
    "            t_max_idx = np.argmax(DF_corr)\n",
    "            min_idx = t_max_idx - 1 if t_max_idx > 0 else 0\n",
    "            t_part = np.linspace(t[min_idx], t[t_max_idx + 1], times.shape[0])\n",
    "            Xan, Ex, DR = integrate(k1, t_part, [Xan[min_idx], Ex[min_idx], DR[min_idx]])\n",
    "        \n",
    "        DF_corr = Xan * DR * (Tall(A0 * Xan) if A0 > 0 else 1)\n",
    "        \n",
    "        if curves:  # return the all curve, \n",
    "            return DF_corr / np.max(DF_corr) if norm_curves else DF_corr\n",
    "        \n",
    "        return t_part[np.argmax(DF_corr)] if not intensity else np.max(DF_corr)\n",
    "    \n",
    "    t_num = t_points if curves else 100\n",
    "#     t_max = 4e-6\n",
    "    \n",
    "    times = np.linspace(0, t_max, t_num)\n",
    "    \n",
    "    maxima = np.zeros(conc.shape[0] if not curves else (conc.shape[0], times.shape[0]))\n",
    "    \n",
    "        \n",
    "    for i, k1 in enumerate(kq*conc):\n",
    "        maxima[i] = _max(k1, times)\n",
    "        \n",
    "    return maxima"
   ]
  },
  {
   "cell_type": "code",
   "execution_count": 211,
   "metadata": {},
   "outputs": [],
   "source": [
    "# slow DF process kinetic model\n",
    "def general_2(conc, kdel=1, kTT=1, A0=0, t_max=4e-6, intensity=False, curves=False, norm_curves=False):\n",
    "    \n",
    "    def Tall(A):\n",
    "        result = (1 - np.power(10, -A)) / (A * np.log(10))\n",
    "        result[np.isnan(result)] = 1\n",
    "        return result\n",
    "    \n",
    "    def solve(c, t, *args):\n",
    "        Xan, Ex, DR = c\n",
    "        k1_var = args[0]\n",
    "\n",
    "#         dcXan_dt = -(k0 + k1_var) * Xan\n",
    "#         dcEx_dt = + k1_var * Xan  - (kex + kd) * Ex\n",
    "#         dcDR_dt = + kex * Ex - kd * DR\n",
    "\n",
    "        dcXan_dt = -(k0 + k1_var) * Xan\n",
    "        dcEx_dt = + kTT * Xan * DR  - kdel * Ex\n",
    "        dcDR_dt = + k1_var * Xan - kd * DR\n",
    "\n",
    "        return [dcXan_dt, dcEx_dt, dcDR_dt]\n",
    "    \n",
    "    def integrate(k1, times, init_values):\n",
    "        result = odeint(solve, init_values, times, args=(k1,))\n",
    "        Xan = result[:, 0]\n",
    "        Ex = result[:, 1]\n",
    "        DR = result[:, 2]\n",
    "        DF = Xan * DR\n",
    "        return Xan, Ex, DR\n",
    "    \n",
    "    def _max(k1, t):\n",
    "# #         limit_t = t_max\n",
    "# #         num_p = 100\n",
    "#         t = np.linspace(0, t_max, t_num)\n",
    "        \n",
    "        Xan, Ex, DR = integrate(k1, t, [1, 0, 0])\n",
    "        DF_corr = Ex * (Tall(A0 * Xan) if A0 > 0 else 1)\n",
    "        \n",
    "        if not curves:\n",
    "            t_max_idx = np.argmax(DF_corr)\n",
    "            min_idx = t_max_idx - 1 if t_max_idx > 0 else 0\n",
    "            t_part = np.linspace(t[min_idx], t[t_max_idx + 1], times.shape[0])\n",
    "            Xan, Ex, DR = integrate(k1, t_part, [Xan[min_idx], Ex[min_idx], DR[min_idx]])\n",
    "        \n",
    "        DF_corr = Ex * (Tall(A0 * Xan) if A0 > 0 else 1)\n",
    "        \n",
    "        if curves:  # return the all curve, \n",
    "            return DF_corr / np.max(DF_corr) if norm_curves else DF_corr\n",
    "        \n",
    "        return t_part[np.argmax(DF_corr)] if not intensity else np.max(DF_corr)\n",
    "    \n",
    "    t_num = 1000 if curves else 100\n",
    "#     t_max = 4e-6\n",
    "    \n",
    "    times = np.linspace(0, t_max, t_num)\n",
    "    \n",
    "    maxima = np.zeros(conc.shape[0] if not curves else (conc.shape[0], times.shape[0]))\n",
    "        \n",
    "    for i, k1 in enumerate(kq*conc):\n",
    "        maxima[i] = _max(k1, times)\n",
    "        \n",
    "    return maxima"
   ]
  },
  {
   "cell_type": "code",
   "execution_count": 253,
   "metadata": {},
   "outputs": [],
   "source": [
    "conc = np.linspace(1e-10, 7e-4, 100)\n",
    "ll = lower_lim(conc)\n",
    "\n",
    "# x = np.linspace(0, 4e-6, 5000)\n",
    "ul = upper_lim(conc)\n",
    "\n",
    "var_ = general(conc, 1.5e6, k_ex=0, A0=0)\n",
    "var2 = general_2(conc, 2.5e6, 1e10, A0=0)\n",
    "plt.plot(conc, var_, label='true', lw=3)\n",
    "plt.plot(conc, ul, label='upper', lw=3)\n",
    "plt.plot(conc, ll, label='lower', lw=3)\n",
    "for d in np.linspace(3e5, 5e6, 10):\n",
    "    plt.plot(conc, general_2(conc, d, 1e11, A0=0), label=f'kdelay={d}', color='k')\n",
    "\n",
    "\n",
    "\n",
    "# plt.plot(conc, ul - ll, label='diff')\n",
    "plt.legend()\n",
    "plt.xlabel('x label')\n",
    "plt.ylabel('y label')\n",
    "\n",
    "\n",
    "# plt.savefig('figure.png', dpi=1000, format='png', transparent=True)\n",
    "plt.show()"
   ]
  },
  {
   "cell_type": "code",
   "execution_count": 1,
   "metadata": {},
   "outputs": [
    {
     "ename": "NameError",
     "evalue": "name 'np' is not defined",
     "output_type": "error",
     "traceback": [
      "\u001b[1;31m---------------------------------------------------------------------------\u001b[0m",
      "\u001b[1;31mNameError\u001b[0m                                 Traceback (most recent call last)",
      "\u001b[1;32m<ipython-input-1-24fd5edcb97c>\u001b[0m in \u001b[0;36m<module>\u001b[1;34m\u001b[0m\n\u001b[1;32m----> 1\u001b[1;33m \u001b[0m_c\u001b[0m \u001b[1;33m=\u001b[0m \u001b[0mnp\u001b[0m\u001b[1;33m.\u001b[0m\u001b[0mlinspace\u001b[0m\u001b[1;33m(\u001b[0m\u001b[1;36m1e-8\u001b[0m\u001b[1;33m,\u001b[0m \u001b[1;36m6e-4\u001b[0m\u001b[1;33m,\u001b[0m \u001b[1;36m1000\u001b[0m\u001b[1;33m)\u001b[0m\u001b[1;33m\u001b[0m\u001b[1;33m\u001b[0m\u001b[0m\n\u001b[0m\u001b[0;32m      2\u001b[0m \u001b[1;31m# _c = np.logspace(-8, -3, 1000)\u001b[0m\u001b[1;33m\u001b[0m\u001b[1;33m\u001b[0m\u001b[1;33m\u001b[0m\u001b[0m\n\u001b[0;32m      3\u001b[0m \u001b[1;33m\u001b[0m\u001b[0m\n\u001b[0;32m      4\u001b[0m \u001b[0mt_points\u001b[0m \u001b[1;33m=\u001b[0m \u001b[1;36m1000\u001b[0m\u001b[1;33m\u001b[0m\u001b[1;33m\u001b[0m\u001b[0m\n\u001b[0;32m      5\u001b[0m \u001b[0mt_max\u001b[0m \u001b[1;33m=\u001b[0m \u001b[1;36m6e-6\u001b[0m\u001b[1;33m\u001b[0m\u001b[1;33m\u001b[0m\u001b[0m\n",
      "\u001b[1;31mNameError\u001b[0m: name 'np' is not defined"
     ]
    }
   ],
   "source": [
    "_c = np.linspace(1e-8, 6e-4, 1000)\n",
    "# _c = np.logspace(-8, -3, 1000)\n",
    "\n",
    "t_points = 1000\n",
    "t_max = 6e-6\n",
    "\n",
    "matrix = general(_c, 1.5e+06, k_ex=0, A0=0.25, t_max=t_max, curves=True, norm_curves=False, t_points=t_points)\n",
    "# matrix = general_2(_c, 2.5e6, kTT=1e12, A0=0, t_max=6e-6, curves=True, norm_curves=False)\n",
    "\n",
    "times = np.linspace(0, t_max, t_points)\n",
    "\n",
    "matrix /= np.max(matrix)  # normalize to global maximum\n",
    "\n",
    "curve_x = _c\n",
    "curve_y = np.zeros(_c.shape[0]) # max time\n",
    "curve_z = np.zeros(_c.shape[0]) # max intensity\n",
    "\n",
    "# maxima curve\n",
    "for i in range(_c.shape[0]):\n",
    "    curve_y[i] = times[np.argmax(matrix[i])]\n",
    "    curve_z[i] = np.max(matrix[i])\n",
    "\n",
    "# matrix /= np.max(matrix)  # normalize to global maximum\n",
    "\n",
    "\n",
    "x, y = np.meshgrid(_c, times)  # needed for pcolormesh to correctly scale the image\n",
    "\n",
    "from mpl_toolkits.mplot3d import axes3d\n",
    "# import matplotlib.pyplot as plt\n",
    "from matplotlib import cm\n",
    "import matplotlib.ticker as mtick\n",
    "\n",
    "%matplotlib qt\n",
    "\n",
    "# X, Y, Z = axes3d.get_test_data(0.2)\n",
    "\n",
    "# Normalize to [0,1]\n",
    "norm = plt.Normalize(matrix.min(), matrix.max())\n",
    "colors = cm.inferno_r(norm(matrix.T))\n",
    "rcount, ccount, _ = colors.shape\n",
    "\n",
    "fig = plt.figure()\n",
    "ax = fig.gca(projection='3d')\n",
    "# surf = ax.plot_surface(x, y, matrix.T, rcount=1, ccount=50,\n",
    "#                        facecolors=colors, shade=False, linewidth=0.5)\n",
    "# surf.set_facecolor((0,0,0,0))\n",
    "wf = ax.plot_wireframe(x, y, matrix.T, rstride=0, cstride=27, linewidth=0.9, color='k')\n",
    "\n",
    "curve_plot = ax.plot3D(curve_x, curve_y, curve_z, zdir='z', color='green', lw=5, zorder=10)\n",
    "\n",
    "levels = np.linspace(-0.01, 1, 6)\n",
    "cm = ax.contourf(x, y, matrix.T, zdir='z', offset=0, levels=levels, cmap='inferno_r')\n",
    "\n",
    "\n",
    "# cc = ax.contourf(x, y, matrix.T, zdir='y', offset=-0.1)\n",
    "\n",
    "# ax.colorbar(label='Relative intensity')\n",
    "\n",
    "# plot data matrix D\n",
    "\n",
    "# plt.pcolormesh(x, y, matrix.T, cmap='inferno_r')\n",
    "# plt.colorbar(label='Relative intensity')\n",
    "# plt.title(\"Data matrix $D$\")\n",
    "# plt.ylabel('Time [s]')\n",
    "# plt.xlabel('CP1 concentration [M]')\n",
    "# ax.zlabel('Normalized intensity')\n",
    "ax.set_xlabel('CP1 concentration (M)', fontsize=16, rotation=0)\n",
    "ax.set_ylabel('Time (s)', fontsize=15)\n",
    "ax.set_zlabel('Norm. intensity', fontsize=15, rotation=0)\n",
    "ax.set_zlim(0, 1)\n",
    "\n",
    "# ax.ticklabel_format(axis='both', style='sci')\n",
    "ax.xaxis.set_major_formatter(mtick.FormatStrFormatter('%.0e'))\n",
    "ax.yaxis.set_major_formatter(mtick.FormatStrFormatter('%.1e'))\n",
    "\n",
    "\n",
    "# plt.xscale('symlog', subsx=[1, 2, 3, 4, 5, 6, 7, 8, 9], linscalex=0.3, linthreshx=1e-5)\n",
    "# plt.xscale('log')\n",
    "# yaxis = plt.gca().yaxis\n",
    "# yaxis.set_minor_locator(MinorSymLogLocator(100))\n",
    "\n",
    "# plt.savefig('fig.pdf', format='pdf')\n",
    "# plt.savefig('figure.png', dpi=1000, format='png', transparent=True)\n",
    "\n",
    "plt.show()\n",
    "\n",
    "\n",
    "\n"
   ]
  },
  {
   "cell_type": "code",
   "execution_count": 289,
   "metadata": {},
   "outputs": [
    {
     "data": {
      "text/plain": [
       "array([1., 1., 1., 1., 1., 1., 1., 1., 1., 1., 1., 1., 1., 1., 1., 1., 1.,\n",
       "       1., 1., 1., 1., 1., 1., 1., 1., 1., 1., 1., 1., 1., 1., 1., 1., 1.,\n",
       "       1., 1., 1., 1., 1., 1., 1., 1., 1., 1., 1., 1., 1., 1., 1., 1., 1.,\n",
       "       1., 1., 1., 1., 1., 1., 1., 1., 1., 1., 1., 1., 1., 1., 1., 1., 1.,\n",
       "       1., 1., 1., 1., 1., 1., 1., 1., 1., 1., 1., 1., 1., 1., 1., 1., 1.,\n",
       "       1., 1., 1., 1., 1., 1., 1., 1., 1., 1., 1., 1., 1., 1., 1.])"
      ]
     },
     "execution_count": 289,
     "metadata": {},
     "output_type": "execute_result"
    }
   ],
   "source": [
    "curve_z[::10]\n"
   ]
  },
  {
   "cell_type": "code",
   "execution_count": 162,
   "metadata": {},
   "outputs": [],
   "source": [
    "A = 0\n",
    "plt.plot(conc, general(conc, 1.5e10, k_ex=0, A0=A, t_max=4e-6, intensity=True, curves=False, norm_curves=False), label='var')\n",
    "# plt.plot(conc, general(conc, 2e-5, A, True), label='upper')\n",
    "# plt.plot(conc, general(conc, 2e10, A, True), label='lower')\n",
    "plt.legend()\n",
    "plt.show()"
   ]
  },
  {
   "cell_type": "code",
   "execution_count": null,
   "metadata": {},
   "outputs": [],
   "source": []
  },
  {
   "cell_type": "code",
   "execution_count": null,
   "metadata": {},
   "outputs": [],
   "source": []
  },
  {
   "cell_type": "code",
   "execution_count": null,
   "metadata": {},
   "outputs": [],
   "source": []
  },
  {
   "cell_type": "code",
   "execution_count": null,
   "metadata": {},
   "outputs": [],
   "source": []
  },
  {
   "cell_type": "code",
   "execution_count": null,
   "metadata": {},
   "outputs": [],
   "source": []
  },
  {
   "cell_type": "code",
   "execution_count": null,
   "metadata": {},
   "outputs": [],
   "source": []
  }
 ],
 "metadata": {
  "kernelspec": {
   "display_name": "Python 3",
   "language": "python",
   "name": "python3"
  },
  "language_info": {
   "codemirror_mode": {
    "name": "ipython",
    "version": 3
   },
   "file_extension": ".py",
   "mimetype": "text/x-python",
   "name": "python",
   "nbconvert_exporter": "python",
   "pygments_lexer": "ipython3",
   "version": "3.7.3"
  }
 },
 "nbformat": 4,
 "nbformat_minor": 2
}
