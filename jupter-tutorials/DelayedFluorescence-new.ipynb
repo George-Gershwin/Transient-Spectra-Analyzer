{
 "cells": [
  {
   "cell_type": "code",
   "execution_count": 17,
   "metadata": {},
   "outputs": [
    {
     "data": {
      "text/html": [
       "        <script type=\"text/javascript\">\n",
       "        window.PlotlyConfig = {MathJaxConfig: 'local'};\n",
       "        if (window.MathJax) {MathJax.Hub.Config({SVG: {font: \"STIX-Web\"}});}\n",
       "        if (typeof require !== 'undefined') {\n",
       "        require.undef(\"plotly\");\n",
       "        requirejs.config({\n",
       "            paths: {\n",
       "                'plotly': ['https://cdn.plot.ly/plotly-latest.min']\n",
       "            }\n",
       "        });\n",
       "        require(['plotly'], function(Plotly) {\n",
       "            window._Plotly = Plotly;\n",
       "        });\n",
       "        }\n",
       "        </script>\n",
       "        "
      ]
     },
     "metadata": {},
     "output_type": "display_data"
    }
   ],
   "source": [
    "import numpy as np\n",
    "import plotly as py\n",
    "import plotly.graph_objs as go\n",
    "import ipywidgets as widgets\n",
    "# from IPython import display\n",
    "from scipy.integrate import odeint\n",
    "\n",
    "from IPython.display import display, clear_output, Image\n",
    "# from plotly.widgets import GraphWidget\n",
    "\n",
    "py.offline.init_notebook_mode(connected=True)\n",
    "\n",
    "from plotly.offline import iplot\n",
    "\n",
    "layout = go.Layout(\n",
    "    title='',\n",
    "    xaxis=dict(\n",
    "        title=\"Time\",\n",
    "        range=[-0.1, 10],\n",
    "        showline=True,\n",
    "        mirror='ticks',\n",
    "        zeroline=False\n",
    "    ),\n",
    "    yaxis=dict(\n",
    "        title=\"$c/c_0$\",\n",
    "        range=[0,1],\n",
    "        showline=True,\n",
    "        mirror='ticks',\n",
    "        zeroline=False\n",
    "    )\n",
    ")\n",
    "\n",
    "times = np.linspace(0, 10, num=200)\n",
    "\n",
    "# c0_wid = widgets.FloatSlider(min=0.1, max=10, value=1, description='c0')\n",
    "# k0_wid = widgets.FloatSlider(min=0, max=10, value=0.3, description='k0')\n",
    "# k1_wid = widgets.FloatSlider(min=0.1, max=50, value=1, description='k1')\n",
    "# kTT_D_wid = widgets.FloatSlider(min=0, max=50, value=1, description='kTT_D')\n",
    "# kTT_A_wid = widgets.FloatSlider(min=0, max=50, value=1, description='kTT_A')\n",
    "# kTT_AD_wid = widgets.FloatSlider(min=0, max=50, value=1, description='kTT_AD')\n",
    "# kdelay_wid = widgets.FloatSlider(min=0.1, max=10, value=1, description='kdelay')\n",
    "# kd_wid = widgets.FloatSlider(min=0.1, max=4, value=0.2, description='kd')\n",
    "\n",
    "# data = go.Scatter(x=[], y=[], mode='lines') \n",
    "# data = go.Scatter(x=xs, y=np.sin(xs/10 * 1), mode='lines')\n",
    "\n",
    "fig = go.FigureWidget(data=[\n",
    "    dict(\n",
    "        type='scatter',\n",
    "        mode='lines',\n",
    "        line=dict(\n",
    "                color='green',\n",
    "                width=2\n",
    "            )),\n",
    "    dict(\n",
    "        type='scatter',\n",
    "        mode='lines',\n",
    "        line=dict(\n",
    "            color='black',\n",
    "            width=0.5,\n",
    "            dash='dash'\n",
    "            )),\n",
    "    dict(\n",
    "        type='scatter',\n",
    "        mode='lines',\n",
    "        line=dict(\n",
    "            color='black',\n",
    "            width=0.5,\n",
    "            dash='dot'\n",
    "            )),\n",
    "     dict(\n",
    "        type='scatter',\n",
    "        mode='lines',\n",
    "        line=dict(\n",
    "            color='red',\n",
    "            width=2\n",
    "            )),\n",
    "    dict(\n",
    "        type='scatter',\n",
    "        mode='lines',\n",
    "        line=dict(\n",
    "            color='blue',\n",
    "            width=3,\n",
    "            dash='dot'\n",
    "            ))\n",
    "], layout=layout)\n",
    "\n",
    "\n",
    "fig.data[0].x = times\n",
    "fig.data[1].x = times\n",
    "fig.data[2].x = times\n",
    "fig.data[3].x = times\n",
    "fig.data[4].x = times\n",
    "fig.data[0].name = 'Xan'\n",
    "fig.data[1].name = 'Ex'\n",
    "fig.data[2].name = 'DR1'\n",
    "fig.data[3].name = 'DR1+Ex'\n",
    "fig.data[4].name = 'Delayed fluorescence (Xan * DR1)'\n",
    "\n",
    "def Tall(A):\n",
    "    result = (1 - np.power(10, -A)) / (A * np.log(10))\n",
    "    result[np.isnan(result)] = 1\n",
    "    return result\n",
    "    \n",
    "\n",
    "def update(k0, k1, kex, k_ex, kd, A0, kTT, kdel, x):\n",
    "    \n",
    "    def solve(conc, t):\n",
    "        cXan, cEx, cDR, cDF = conc\n",
    "\n",
    "        dcXan_dt = -(k0 + k1) * cXan # - kTT * cA*cC  # - kTT_D * cA ** 2 - kTT_AD * cA * cB\n",
    "        dcEx_dt = + kex * cDR - k_ex * cEx  - kd * cEx\n",
    "        dcDR_dt = + k1 * cXan + k_ex * cEx - kd * cDR - kex * cDR\n",
    "        dcDF_dt = kTT * cXan*(x*cEx + (1-x)*cDR) - kdel * cDF\n",
    "\n",
    "        return [dcXan_dt, dcEx_dt, dcDR_dt, dcDF_dt]\n",
    "    \n",
    "#     c0 = 2.3e-5\n",
    "    \n",
    "    result = odeint(solve, [1, 0, 0, 0], times)\n",
    "    Xan = result[:, 0] \n",
    "    Ex = result[:, 1] \n",
    "    DR = result[:, 2]\n",
    "    DF = result[:, 3]\n",
    "    \n",
    "    \n",
    "    DF *= Tall(Xan * A0) if A0 > 0 else 1  # selfabsorption correction\n",
    "    \n",
    "    \n",
    "    fig.data[0].y = Xan\n",
    "    fig.data[1].y = Ex\n",
    "    fig.data[2].y = DR\n",
    "    fig.data[3].y = DR + Ex\n",
    "    fig.data[4].y = DF / np.max(DF) * 0.3\n",
    "\n",
    "\n",
    "# py.offline.iplot(fig)\n",
    "\n",
    "# c0_wid = widgets.FloatSlider(min=0.1, max=10, value=1, description='c0')\n",
    "k0_wid = widgets.FloatSlider(min=0.05, max=2, value=0.3, description='k<sub>0</sub>')\n",
    "# k1_wid = widgets.FloatSlider(min=0.1, max=10, value=1, description='k<sub>1</sub>')\n",
    "k1_wid = widgets.FloatLogSlider(\n",
    "    value=1,\n",
    "    base=10,\n",
    "    min=-3, # max exponent of base\n",
    "    max=3, # min exponent of base\n",
    "    step=0.2, # exponent step\n",
    "    description='k<sub>1</sub>'\n",
    ")\n",
    "# kex_wid = widgets.FloatSlider(min=0, max=50, value=1, description='k<sub>ex</sub>')\n",
    "\n",
    "kex_wid = widgets.FloatLogSlider(\n",
    "    value=1,\n",
    "    base=10,\n",
    "    min=-5, # max exponent of base\n",
    "    max=5, # min exponent of base\n",
    "    step=0.2, # exponent step\n",
    "    description='k<sub>ex</sub>'\n",
    ")\n",
    "kTT_wid = widgets.FloatLogSlider(\n",
    "    value=1,\n",
    "    base=10,\n",
    "    min=-1, # max exponent of base\n",
    "    max=10, # min exponent of base\n",
    "    step=0.2, # exponent step\n",
    "    description='k<sub>TT</sub>'\n",
    ")\n",
    "k_ex_wid = widgets.FloatSlider(min=0, max=50, value=1, description='k<sub>-ex</sub>')\n",
    "# kTT_AD_wid = widgets.FloatSlider(min=0, max=50, value=1, description='kTT_AD')\n",
    "# kdelay_wid = widgets.FloatSlider(min=0.1, max=100, value=1, description='kdelay')\n",
    "kd_wid = widgets.FloatSlider(min=0.1, max=4, value=0.2, description='k<sub>d</sub>')\n",
    "A0_wid = widgets.FloatSlider(min=0, max=2, value=0, description='A<sub>0</sub>')\n",
    "# kTT_wid = widgets.FloatSlider(min=0.1, max=1e8, value=100, description='k<sub>TT</sub>')\n",
    "kdel_wid = widgets.FloatSlider(min=0.1, max=500, value=1000, description='k<sub>del</sub>')\n",
    "kx_wid = widgets.FloatSlider(min=0, max=1, value=0.5, description='x')\n",
    "\n",
    "\n",
    "\n",
    "# update(1, 20, 2, 1, 1)\n"
   ]
  },
  {
   "cell_type": "markdown",
   "metadata": {},
   "source": [
    "## Differential equations\n",
    "\n",
    "\\begin{align}\n",
    "\\label{rce:vytezek}\n",
    "\\frac{\\mathrm d[^3\\mathrm{Xan}^*]}{\\mathrm dt} &= - \\left( k_0 + k_1\\right) [^3\\mathrm{Xan}^*]\\\\\n",
    "\\frac{\\mathrm d[^3\\mathrm{Ex}]}{\\mathrm dt} &= k_1[^3\\mathrm{Xan}^*] + k_{-ex}[^3\\mathrm{DR1}] - k_{ex}[^3\\mathrm{Ex}] - k_d[^3\\mathrm{Ex}]\\\\\n",
    "\\frac{\\mathrm d[^3\\mathrm{DR1}]}{\\mathrm dt} &= k_{ex}[^3\\mathrm{Ex}] - k_{-ex}[^3\\mathrm{DR1}] - k_d[^3\\mathrm{DR1}]\\\\\n",
    "\\end{align}\n",
    "\n",
    "$$I_{df}\\propto \\Phi_{\\mathrm F, \\mathrm{DR1}}[^3\\mathrm{Xan}^*][^3\\mathrm{DR1}]$$\n"
   ]
  },
  {
   "cell_type": "code",
   "execution_count": 20,
   "metadata": {},
   "outputs": [
    {
     "data": {
      "application/vnd.jupyter.widget-view+json": {
       "model_id": "bd2155d088d64fd6af73b0ff606d78c9",
       "version_major": 2,
       "version_minor": 0
      },
      "text/plain": [
       "HBox(children=(FloatSlider(value=0.3, description='k<sub>0</sub>', max=2.0, min=0.05), FloatLogSlider(value=1.…"
      ]
     },
     "metadata": {},
     "output_type": "display_data"
    },
    {
     "data": {
      "application/vnd.jupyter.widget-view+json": {
       "model_id": "192fda2fba82401d89408fd624735f29",
       "version_major": 2,
       "version_minor": 0
      },
      "text/plain": [
       "HBox(children=(FloatLogSlider(value=1.0, description='k<sub>ex</sub>', max=5.0, min=-5.0, step=0.2), FloatSlid…"
      ]
     },
     "metadata": {},
     "output_type": "display_data"
    },
    {
     "data": {
      "application/vnd.jupyter.widget-view+json": {
       "model_id": "8162976e94974167830bf314f757a1d8",
       "version_major": 2,
       "version_minor": 0
      },
      "text/plain": [
       "HBox(children=(FloatSlider(value=0.2, description='k<sub>d</sub>', max=4.0, min=0.1),))"
      ]
     },
     "metadata": {},
     "output_type": "display_data"
    },
    {
     "data": {
      "application/vnd.jupyter.widget-view+json": {
       "model_id": "4a178304765e43d39efcef5cba6443b2",
       "version_major": 2,
       "version_minor": 0
      },
      "text/plain": [
       "HBox(children=(FloatLogSlider(value=1.0, description='k<sub>TT</sub>', max=10.0, min=-1.0, step=0.2), FloatSli…"
      ]
     },
     "metadata": {},
     "output_type": "display_data"
    },
    {
     "data": {
      "application/vnd.jupyter.widget-view+json": {
       "model_id": "3cabfb4fc4ed409ca291a804d73af5b5",
       "version_major": 2,
       "version_minor": 0
      },
      "text/plain": [
       "HBox(children=(FloatSlider(value=0.0, description='A<sub>0</sub>', max=2.0),))"
      ]
     },
     "metadata": {},
     "output_type": "display_data"
    },
    {
     "data": {
      "application/vnd.jupyter.widget-view+json": {
       "model_id": "efc33e3f76ac49e099715731ecbaf217",
       "version_major": 2,
       "version_minor": 0
      },
      "text/plain": [
       "HBox(children=(FloatSlider(value=0.5, description='x', max=1.0),))"
      ]
     },
     "metadata": {},
     "output_type": "display_data"
    },
    {
     "data": {
      "application/vnd.jupyter.widget-view+json": {
       "model_id": "83a51cfec550489fb85e3bb8b8e62c50",
       "version_major": 2,
       "version_minor": 0
      },
      "text/plain": [
       "FigureWidget({\n",
       "    'data': [{'line': {'color': 'green', 'width': 2},\n",
       "              'mode': 'lines',\n",
       "          …"
      ]
     },
     "metadata": {},
     "output_type": "display_data"
    }
   ],
   "source": [
    "widgets.interactive(update, k0=k0_wid, k1=k1_wid, kex=kex_wid, k_ex=k_ex_wid, kd=kd_wid, A0=A0_wid, kTT=kTT_wid, kdel=kdel_wid, x=kx_wid)\n",
    "display(widgets.HBox([k0_wid, k1_wid]))\n",
    "display(widgets.HBox([kex_wid, k_ex_wid]))\n",
    "display(widgets.HBox([kd_wid]))\n",
    "display(widgets.HBox([kTT_wid, kdel_wid]))\n",
    "display(widgets.HBox([A0_wid]))\n",
    "display(widgets.HBox([kx_wid]))\n",
    "\n",
    "# iplot(fig)\n",
    "display(fig)"
   ]
  },
  {
   "cell_type": "code",
   "execution_count": null,
   "metadata": {},
   "outputs": [],
   "source": []
  }
 ],
 "metadata": {
  "kernelspec": {
   "display_name": "Python 3",
   "language": "python",
   "name": "python3"
  },
  "language_info": {
   "codemirror_mode": {
    "name": "ipython",
    "version": 3
   },
   "file_extension": ".py",
   "mimetype": "text/x-python",
   "name": "python",
   "nbconvert_exporter": "python",
   "pygments_lexer": "ipython3",
   "version": "3.7.3"
  }
 },
 "nbformat": 4,
 "nbformat_minor": 2
}
