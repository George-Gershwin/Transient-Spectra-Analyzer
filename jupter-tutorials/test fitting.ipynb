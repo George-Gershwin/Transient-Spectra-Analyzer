{
 "cells": [
  {
   "cell_type": "code",
   "execution_count": 112,
   "metadata": {},
   "outputs": [],
   "source": [
    "import numpy as np\n",
    "import matplotlib.pyplot as plt\n",
    "import lmfit\n",
    "from scipy.stats import multivariate_normal"
   ]
  },
  {
   "cell_type": "code",
   "execution_count": 157,
   "metadata": {},
   "outputs": [
    {
     "data": {
      "text/html": [
       "<table><tr><th> name </th><th> value </th><th> initial value </th><th> min </th><th> max </th><th> vary </th></tr><tr><td> y0 </td><td>  0.00000000 </td><td> 0 </td><td>        -inf </td><td>         inf </td><td> True </td></tr><tr><td> k </td><td>  0.50000000 </td><td> 0.5 </td><td>  0.00000000 </td><td>         inf </td><td> True </td></tr></table>"
      ],
      "text/plain": [
       "Parameters([('y0', <Parameter 'y0', value=0, bounds=[-inf:inf]>),\n",
       "            ('k', <Parameter 'k', value=0.5, bounds=[0:inf]>)])"
      ]
     },
     "execution_count": 157,
     "metadata": {},
     "output_type": "execute_result"
    }
   ],
   "source": [
    "params = lmfit.Parameters()\n",
    "\n",
    "params.add('y0', value=0, min=-np.inf, max=np.inf)\n",
    "params.add('k', value=0.5, min=0, max=np.inf)\n",
    "params"
   ]
  },
  {
   "cell_type": "code",
   "execution_count": 158,
   "metadata": {},
   "outputs": [
    {
     "data": {
      "image/png": "[encoded data removed]",
      "text/plain": [
       "<Figure size 432x288 with 1 Axes>"
      ]
     },
     "metadata": {
      "needs_background": "light"
     },
     "output_type": "display_data"
    }
   ],
   "source": [
    "x = np.linspace(0, 10, 20)\n",
    "\n",
    "def func(x, params):\n",
    "    return params['y0'].value + np.exp(-params['k'].value * x)\n",
    "\n",
    "np.random.seed(5)\n",
    "y = func(x, params) + np.random.normal(scale=0.1, size=x.shape[0])\n",
    "\n",
    "plt.scatter(x, y)\n",
    "plt.show()"
   ]
  },
  {
   "cell_type": "code",
   "execution_count": 159,
   "metadata": {},
   "outputs": [
    {
     "data": {
      "text/html": [
       "<table><tr><th> name </th><th> value </th><th> initial value </th><th> min </th><th> max </th><th> vary </th></tr><tr><td> y0 </td><td>  0.00000000 </td><td> 0 </td><td>        -inf </td><td>         inf </td><td> True </td></tr><tr><td> k </td><td>  2.00000000 </td><td> 0.5 </td><td>  0.00000000 </td><td>         inf </td><td> True </td></tr></table>"
      ],
      "text/plain": [
       "Parameters([('y0', <Parameter 'y0', value=0, bounds=[-inf:inf]>),\n",
       "            ('k', <Parameter 'k', value=2, bounds=[0:inf]>)])"
      ]
     },
     "execution_count": 159,
     "metadata": {},
     "output_type": "execute_result"
    }
   ],
   "source": [
    "params['y0'].value = 0\n",
    "params['k'].value = 2\n",
    "params"
   ]
  },
  {
   "cell_type": "code",
   "execution_count": 160,
   "metadata": {},
   "outputs": [
    {
     "name": "stdout",
     "output_type": "stream",
     "text": [
      "   Iteration     Total nfev        Cost      Cost reduction    Step norm     Optimality   \n",
      "       0              1         5.9621e-01                                    2.62e+00    \n",
      "       1              2         2.0840e-01      3.88e-01       1.09e+00       6.59e-01    \n",
      "       2              3         1.4139e-01      6.70e-02       4.79e-01       1.05e+00    \n",
      "       3              4         1.1257e-01      2.88e-02       5.29e-02       2.02e-02    \n",
      "       4              5         1.1248e-01      9.04e-05       1.63e-02       8.22e-03    \n",
      "       5              6         1.1247e-01      1.21e-05       6.12e-03       1.20e-03    \n",
      "       6              7         1.1247e-01      1.88e-06       2.46e-03       1.11e-03    \n",
      "       7              8         1.1247e-01      2.92e-07       9.71e-04       2.03e-04    \n",
      "       8              9         1.1247e-01      4.67e-08       3.89e-04       1.73e-04    \n",
      "       9             10         1.1247e-01      7.46e-09       1.55e-04       3.27e-05    \n",
      "      10             11         1.1247e-01      1.20e-09       6.23e-05       2.77e-05    \n",
      "      11             12         1.1247e-01      1.92e-10       2.49e-05       5.26e-06    \n",
      "      12             13         1.1247e-01      3.07e-11       9.98e-06       4.43e-06    \n",
      "      13             14         1.1247e-01      4.94e-12       4.00e-06       8.45e-07    \n",
      "`ftol` termination condition is satisfied.\n",
      "Function evaluations 14, initial cost 5.9621e-01, final cost 1.1247e-01, first-order optimality 8.45e-07.\n"
     ]
    },
    {
     "data": {
      "text/html": [
       "<table><tr><th> name </th><th> value </th><th> standard error </th><th> relative error </th><th> initial value </th><th> min </th><th> max </th><th> vary </th></tr><tr><td> y0 </td><td> -0.00497255 </td><td>  0.04822528 </td><td> (969.83%) </td><td> 0 </td><td>        -inf </td><td>         inf </td><td> True </td></tr><tr><td> k </td><td>  0.47514859 </td><td>  0.10265169 </td><td> (21.60%) </td><td> 2 </td><td>  0.00000000 </td><td>         inf </td><td> True </td></tr></table>"
      ],
      "text/plain": [
       "Parameters([('y0',\n",
       "             <Parameter 'y0', value=-0.00497254916991183 +/- 0.0482, bounds=[-inf:inf]>),\n",
       "            ('k',\n",
       "             <Parameter 'k', value=0.4751485871568783 +/- 0.103, bounds=[0:inf]>)])"
      ]
     },
     "execution_count": 160,
     "metadata": {},
     "output_type": "execute_result"
    }
   ],
   "source": [
    "def residuals(params):\n",
    "    y_fit = func(x, params)\n",
    "    \n",
    "    r = y - y_fit\n",
    "    return r\n",
    "#     return (r ** 2).sum()\n",
    "    \n",
    "\n",
    "minimizer = lmfit.Minimizer(residuals, params)\n",
    "\n",
    "\n",
    "kws = {'ftol': 1e-10, 'xtol': 1e-10, 'gtol': 1e-10, 'loss': 'soft_l1', 'verbose': 2}\n",
    "# kws = {'ftol': 1e-10, 'xtol': 1e-10, 'gtol': 1e-10, 'loss': 'linear', 'verbose': 2}\n",
    "\n",
    "\n",
    "last_result = minimizer.minimize(method='least_squares', **kws)  # minimize the residuals\n",
    "params = last_result.params\n",
    "params"
   ]
  },
  {
   "cell_type": "code",
   "execution_count": 161,
   "metadata": {},
   "outputs": [
    {
     "name": "stdout",
     "output_type": "stream",
     "text": [
      "[[Fit Statistics]]\n",
      "    # fitting method   = least_squares\n",
      "    # function evals   = 14\n",
      "    # data points      = 20\n",
      "    # variables        = 2\n",
      "    chi-square         = 0.22652903\n",
      "    reduced chi-square = 0.01258495\n",
      "    Akaike info crit   = -85.6122890\n",
      "    Bayesian info crit = -83.6208245\n",
      "[[Variables]]\n",
      "    y0: -0.00497255 +/- 0.04822528 (969.83%) (init = 0)\n",
      "    k:   0.47514859 +/- 0.10265169 (21.60%) (init = 2)\n",
      "[[Correlations]] (unreported correlations are < 0.100)\n",
      "    C(y0, k) =  0.851\n"
     ]
    }
   ],
   "source": [
    "lmfit.report_fit(last_result)"
   ]
  },
  {
   "cell_type": "code",
   "execution_count": 166,
   "metadata": {},
   "outputs": [],
   "source": [
    "values = np.asarray([par[1].value for par in params.items()])\n",
    "n_samples = 10000\n",
    "x_fit = np.linspace(-1, 15, 1000)\n",
    "\n",
    "X = multivariate_normal.rvs(mean=values, cov=last_result.covar, size=n_samples)\n",
    "func_samples = np.zeros((n_samples, x_fit.shape[0]))\n",
    "for i in range(n_samples):\n",
    "    func_samples[i] = X[i, 0] + np.exp(-X[i, 1] * x_fit)\n",
    "\n",
    "q95 = np.quantile(func_samples, (0.025, 0.975), axis=0)\n",
    "q68 = np.quantile(func_samples, (0.159, 0.841), axis=0)\n"
   ]
  },
  {
   "cell_type": "code",
   "execution_count": 168,
   "metadata": {},
   "outputs": [
    {
     "data": {
      "text/plain": [
       "(10000, 2)"
      ]
     },
     "execution_count": 168,
     "metadata": {},
     "output_type": "execute_result"
    }
   ],
   "source": [
    "X.shape"
   ]
  },
  {
   "cell_type": "code",
   "execution_count": 169,
   "metadata": {},
   "outputs": [
    {
     "data": {
      "image/png": "[encoded data removed]",
      "text/plain": [
       "<Figure size 432x288 with 1 Axes>"
      ]
     },
     "metadata": {
      "needs_background": "light"
     },
     "output_type": "display_data"
    }
   ],
   "source": [
    "plt.scatter(x, y, s=15)\n",
    "\n",
    "plt.plot(x_fit, func(x_fit, params), lw=2, color='black')\n",
    "plt.fill_between(x_fit, q68[0], q68[1], alpha=0.8, color='gray')\n",
    "plt.fill_between(x_fit, q95[0], q95[1], alpha=0.5, color='gray')\n",
    "\n",
    "plt.show()"
   ]
  },
  {
   "cell_type": "code",
   "execution_count": null,
   "metadata": {},
   "outputs": [],
   "source": []
  }
 ],
 "metadata": {
  "kernelspec": {
   "display_name": "Python 3",
   "language": "python",
   "name": "python3"
  },
  "language_info": {
   "codemirror_mode": {
    "name": "ipython",
    "version": 3
   },
   "file_extension": ".py",
   "mimetype": "text/x-python",
   "name": "python",
   "nbconvert_exporter": "python",
   "pygments_lexer": "ipython3",
   "version": "3.7.6"
  }
 },
 "nbformat": 4,
 "nbformat_minor": 4
}
